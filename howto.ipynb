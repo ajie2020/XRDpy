{
 "cells": [
  {
   "cell_type": "markdown",
   "metadata": {},
   "source": [
    "# How to use XRD.py for XRD plotting\n",
    "## Andrew Garcia"
   ]
  },
  {
   "cell_type": "markdown",
   "metadata": {},
   "source": [
    "In order to use this script effectively, your XRD files must first be converted from .xy form (or whichever other extension they have) to .csv form. Then you may do the following\n",
    "\n",
    "* Download the Excel database template *database_template.xlsx* and the *\\fakeXRDfiles* folder located in this \\XRD repository\n",
    "* Change fpath (line above data() function in **XRD.py**) to directory where XRD files are being housed i.e. ***fpath = r'C:\\...fakeXRDfiles/'***\n",
    "* Use the following templates below:\n",
    "    - (**database()**  reads the Excel database in python, while **select()** does some indexing. You may either place these functions in a new .py script and import the script to XRD.py or copy them to XRD.py):"
   ]
  },
  {
   "cell_type": "code",
   "execution_count": 1,
   "metadata": {},
   "outputs": [
    {
     "name": "stdout",
     "output_type": "stream",
     "text": [
      "0    example1\n",
      "1    example2\n",
      "2    example3\n",
      "3    example4\n",
      "4    example5\n",
      "Name: name, dtype: object \n",
      "\n"
     ]
    }
   ],
   "source": [
    "import pandas\n",
    "def database():\n",
    "#    change to your path\n",
    "    return pandas.read_excel(r'C:\\Users\\garci\\Dropbox (Personal)\\scripts\\XRD\\database_template.xlsx')\n",
    "    \n",
    "print(database()['name'],'\\n')"
   ]
  },
  {
   "cell_type": "code",
   "execution_count": 2,
   "metadata": {},
   "outputs": [],
   "source": [
    "def select():\n",
    "    \n",
    "    'FIRST CHART (OVERLAID PLOTS)'\n",
    "    labels= list(database()['name'])\n",
    "    oplts = [\n",
    "            list.index(labels,'example1'),\n",
    "            list.index(labels,'example2'),\n",
    "            list.index(labels,'example3')\n",
    "            ]\n",
    "    \n",
    "    \n",
    "    [oplts.append('empty') for i in range(5)]\n",
    "    \n",
    "    '---------------------------------------------------------------'\n",
    "\n",
    "    'NEXT CHARTS BEYOND FIRST (INDIVIDUAL PLOTS PER CHART)'\n",
    "    \n",
    "    iplts = [\n",
    "            list.index(labels,'example1'),\n",
    "            list.index(labels,'example5')\n",
    "            ]\n",
    "    \n",
    "    '---------------------------------------------------------------'\n",
    "    n = 1 + len (iplts)\n",
    "    \n",
    "    return oplts,iplts,n"
   ]
  },
  {
   "cell_type": "markdown",
   "metadata": {},
   "source": [
    "The **select()** function is self-explanatory. If you want more than 5 overlaid plots, change the 5 in range(5) to the number of overlaid plots you want. "
   ]
  },
  {
   "cell_type": "code",
   "execution_count": 4,
   "metadata": {},
   "outputs": [
    {
     "name": "stdout",
     "output_type": "stream",
     "text": [
      "example1\n",
      "example2\n",
      "example3\n",
      "example1\n",
      "example5\n",
      "\n",
      "*Crystallite size calculated using Scherrer equation.\n"
     ]
    },
    {
     "data": {
      "image/png": "[encoded data removed]",
      "text/plain": [
       "<Figure size 432x288 with 3 Axes>"
      ]
     },
     "metadata": {
      "needs_background": "light"
     },
     "output_type": "display_data"
    }
   ],
   "source": [
    "from XRD import *\n",
    "make(database,select,'')"
   ]
  },
  {
   "cell_type": "markdown",
   "metadata": {},
   "source": [
    "I hope you enjoyed this short tutorial.\n",
    "\n",
    "-Andy <3"
   ]
  }
 ],
 "metadata": {
  "kernelspec": {
   "display_name": "Python 3",
   "language": "python",
   "name": "python3"
  },
  "language_info": {
   "codemirror_mode": {
    "name": "ipython",
    "version": 3
   },
   "file_extension": ".py",
   "mimetype": "text/x-python",
   "name": "python",
   "nbconvert_exporter": "python",
   "pygments_lexer": "ipython3",
   "version": "3.7.3"
  }
 },
 "nbformat": 4,
 "nbformat_minor": 2
}
